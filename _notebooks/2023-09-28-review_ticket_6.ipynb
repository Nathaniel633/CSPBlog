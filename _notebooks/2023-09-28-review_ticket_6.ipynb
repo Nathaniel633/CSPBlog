{
 "cells": [
  {
   "cell_type": "markdown",
   "metadata": {},
   "source": [
    "---\n",
    "layout: post\n",
    "title: Review Ticket 6\n",
    "description: A review ticket for week 6 using Github utterances\n",
    "toc: true\n",
    "comments: true\n",
    "courses: {compsci: {week: 6} }\n",
    "type: tangibles\n",
    "---\n"
   ]
  }
 ],
 "metadata": {
  "language_info": {
   "name": "python"
  },
  "orig_nbformat": 4
 },
 "nbformat": 4,
 "nbformat_minor": 2
}
