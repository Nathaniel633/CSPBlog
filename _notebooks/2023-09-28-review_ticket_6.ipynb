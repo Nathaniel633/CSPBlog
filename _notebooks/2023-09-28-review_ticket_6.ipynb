{
 "cells": [
  {
   "cell_type": "markdown",
   "metadata": {},
   "source": [
    "---\n",
    "layout: post\n",
    "title: Review Ticket 6\n",
    "description: A review ticket for week 6 using Github utterances\n",
    "toc: true\n",
    "comments: true\n",
    "courses: {compsci: {week: 6} }\n",
    "type: tangibles\n",
    "---\n"
   ]
  },
  {
   "cell_type": "markdown",
   "metadata": {},
   "source": [
    "## Summary of Accomplishments\n",
    "\n",
    "- Developed Web Programming Basics Test\n",
    "- Encountered a lot of issues but have resolved them all from help of my peers and some use of ChatGPT\n",
    "- Learned to use HTML to make projects and follow wireframes to create UIs\n",
    "- Learned different data types and how to interact with each and print them to console via JavaScript\n",
    "- Learned to combine HTML and JavaScript in the same project DOM, using onclick events to assign a button purpose\n"
   ]
  }
 ],
 "metadata": {
  "language_info": {
   "name": "python"
  },
  "orig_nbformat": 4
 },
 "nbformat": 4,
 "nbformat_minor": 2
}
