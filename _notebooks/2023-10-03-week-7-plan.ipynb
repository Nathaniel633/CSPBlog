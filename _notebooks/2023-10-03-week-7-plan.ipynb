{
 "cells": [
  {
   "cell_type": "markdown",
   "metadata": {},
   "source": [
    "---\n",
    "toc: true\n",
    "comments: true\n",
    "layout: post\n",
    "title: Daily Plan 7\n",
    "description: My daily plan for the week of Oct 2nd as per Slack announcement\n",
    "type: plans\n",
    "courses: { compsci: {week: 7} }\n",
    "---"
   ]
  }
 ],
 "metadata": {
  "language_info": {
   "name": "python"
  },
  "orig_nbformat": 4
 },
 "nbformat": 4,
 "nbformat_minor": 2
}
