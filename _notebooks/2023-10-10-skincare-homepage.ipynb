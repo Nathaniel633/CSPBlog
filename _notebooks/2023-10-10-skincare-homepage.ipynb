{
 "cells": [
  {
   "cell_type": "markdown",
   "metadata": {},
   "source": [
    "---\n",
    "comments: true\n",
    "layout: post\n",
    "title: Skincare Homepage\n",
    "description: The homepage of our skincare passion project as part of my role as the frontend\n",
    "type: hacks\n",
    "courses: {compsci: {week: 8}}\n",
    "---"
   ]
  },
  {
   "cell_type": "code",
   "execution_count": null,
   "metadata": {
    "vscode": {
     "languageId": "html"
    }
   },
   "outputs": [],
   "source": [
    "\n",
    "Skincare Extension Homepage\n",
    "<h1>Hello, world</h1>\n",
    "\n",
    "- dsds"
   ]
  }
 ],
 "metadata": {
  "language_info": {
   "name": "python"
  },
  "orig_nbformat": 4
 },
 "nbformat": 4,
 "nbformat_minor": 2
}
