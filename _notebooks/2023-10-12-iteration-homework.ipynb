{
 "cells": [
  {
   "cell_type": "markdown",
   "metadata": {},
   "source": [
    "---\n",
    "comments: true\n",
    "layout: post\n",
    "title: Iterations and their Applications\n",
    "description: Homework hacks for Gavin Dyke, Sri Surapaneni,Soham Kulkarni, Jonathan Liu 10/5/23\n",
    "type: tangibles\n",
    "courses: {compsci: {week: 8}}\n",
    "---"
   ]
  },
  {
   "cell_type": "code",
   "execution_count": 1,
   "metadata": {},
   "outputs": [
    {
     "name": "stdout",
     "output_type": "stream",
     "text": [
      "Oh no! We need to replace Nathan's third period class\n",
      "['CSP', 'Humanities'], ...,  ['Calc', 'History']\n",
      "['CSP', 'Humanities', 'boobs', 'Calc', 'History']\n"
     ]
    }
   ],
   "source": [
    "# Homework ack #1\n",
    "\n",
    "print('Oh no! We need to replace Nathan\\'s third period class')\n",
    "\n",
    "list = ['CSP', \"Humanities\", 'Calc', 'History']\n",
    "first_section = list[:2]\n",
    "last_section = list[-2:]\n",
    "print(str(first_section) + \", ...,  \" + str(last_section))\n",
    "\n",
    "user_input = input(\"What should replace it?\")\n",
    "list.insert(2, user_input)\n",
    "\n",
    "print(list)"
   ]
  },
  {
   "cell_type": "code",
   "execution_count": 3,
   "metadata": {},
   "outputs": [],
   "source": [
    "# Homework hack #2\n",
    "\n",
    "def fibonacci(x):\n",
    "    if x==1:\n",
    "        return(0) # First terminating statement (Needed to state the first number of the fibonacci sequence)\n",
    "    if x == 2:\n",
    "        return(1) # Second terminating statement (Since 0+0=0, we need to introduce integers to the sequence)\n",
    "   \n",
    "    else:\n",
    "        return(fibonacci(x-1)+ fibonacci(x-2))\n",
    "\n",
    "\n",
    "    for i in range(8):    \n",
    "        print(fibonacci(i+1))\n"
   ]
  }
 ],
 "metadata": {
  "kernelspec": {
   "display_name": "Python 3",
   "language": "python",
   "name": "python3"
  },
  "language_info": {
   "codemirror_mode": {
    "name": "ipython",
    "version": 3
   },
   "file_extension": ".py",
   "mimetype": "text/x-python",
   "name": "python",
   "nbconvert_exporter": "python",
   "pygments_lexer": "ipython3",
   "version": "3.11.4"
  },
  "orig_nbformat": 4
 },
 "nbformat": 4,
 "nbformat_minor": 2
}
