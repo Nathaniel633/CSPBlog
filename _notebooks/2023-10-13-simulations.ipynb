{
 "cells": [
  {
   "cell_type": "markdown",
   "metadata": {},
   "source": [
    "---\n",
    "comments: true\n",
    "layout: post\n",
    "title: Team Teaching Simulations\n",
    "description: My section 3.16 part 1 of our team teaching by Daniel Choi, Rayyan Darugar, Aiden Lau, Nathan Obodovski\n",
    "type: tangibles\n",
    "courses: {compsci: {week: 8}}\n",
    "---"
   ]
  },
  {
   "cell_type": "markdown",
   "metadata": {},
   "source": [
    "## Topic "
   ]
  }
 ],
 "metadata": {
  "language_info": {
   "name": "python"
  }
 },
 "nbformat": 4,
 "nbformat_minor": 2
}
