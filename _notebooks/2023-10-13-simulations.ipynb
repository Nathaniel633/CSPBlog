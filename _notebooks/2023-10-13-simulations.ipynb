{
 "cells": [
  {
   "cell_type": "markdown",
   "metadata": {},
   "source": [
    "---\n",
    "comments: true\n",
    "layout: post\n",
    "title: Team Teaching Simulations\n",
    "description: My section 3.16 part 1 of our team teaching by Daniel Choi, Rayyan Darugar, Aiden Lau, Nathan Obodovski\n",
    "type: tangibles\n",
    "courses: {compsci: {week: 8}}\n",
    "---"
   ]
  },
  {
   "cell_type": "markdown",
   "metadata": {},
   "source": [
    "# Topic 3.16: Simulations\n",
    "\n",
    "## Learning Objective:\n",
    "\n",
    "- How computers can be used to represent real-world phoenomena\n",
    "\n",
    "## Essential Knowledge:\n",
    "\n",
    "- Simulations are abstractions for more complex objects or phoenomena for a specific purpose\n",
    "\n",
    "- Mimic real-world events, with simplification\n",
    "\n",
    "- Made to refine results/hypothesis\n",
    "\n",
    "- May have limitations or bias\n",
    "\n",
    "- When creating car-testing simulations, we assume the driver is at least 16 years old, and has their seatbelt\n",
    "on.\n",
    "\n",
    "- Examples: Radar displays, RNG simulating variability, and weather forecasting\n",
    "\n",
    "## Vocab:\n",
    "\n",
    "- Simulation abstraction - The little errors or unusual things that come up when running a simulation\n",
    "\n",
    "## Popcorn Hack 1:\n",
    "\n",
    "- True or false:\n",
    "\n",
    "1. (T or F) A simulation will always have the same result\n",
    "\n",
    "2. (T or F) A simulation is used when it would be more convenient than an experiment\n",
    "\n",
    "3. (T or F) A simulation models very specific scenarios\n",
    "\n",
    "4. (T or F) A simulation cannot provide valid data to be used as fact\n",
    "\n",
    "## Answers\n",
    "\n",
    "1. F\n",
    "\n",
    "2. T\n",
    "\n",
    "3. T\n",
    "\n",
    "4. F\n"
   ]
  }
 ],
 "metadata": {
  "language_info": {
   "name": "python"
  }
 },
 "nbformat": 4,
 "nbformat_minor": 2
}
