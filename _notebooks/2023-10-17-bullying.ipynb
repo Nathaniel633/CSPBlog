{
 "cells": [
  {
   "cell_type": "markdown",
   "metadata": {},
   "source": [
    "---\n",
    "comments: true\n",
    "layout: post\n",
    "title: Booleans Hacks\n",
    "description: Homework hacks for 3.5 Boolean Expressions and 3.6 Conditionals\n",
    "type: tangibles\n",
    "courses: {compsci: {week: 9}}\n",
    "---"
   ]
  },
  {
   "cell_type": "code",
   "execution_count": 1,
   "metadata": {},
   "outputs": [
    {
     "name": "stdout",
     "output_type": "stream",
     "text": [
      "You can run for president!\n"
     ]
    }
   ],
   "source": [
    "## Homework Problem 1\n",
    "\n",
    "# Checks if user is a citizen\n",
    "citizen = input('Are you a citizen? (y/n)')\n",
    "if citizen == 'n':\n",
    "    print('You\\'re not eligible to become president')\n",
    "    \n",
    "    # If they're a citizen, we can prompt them for their age\n",
    "if citizen == 'y':\n",
    "    age = int(input('What is your age?'))\n",
    "    \n",
    "    # If they're a citizen and of age, they can run for president\n",
    "    if age >= 18:\n",
    "        print('You can run for president!')\n",
    "    else:\n",
    "        print('You\\'re a minor and minors can\\t run for president!')\n",
    "        \n",
    "# If the first quesiton isn't answered correctly, ask them what the hell they mean\n",
    "else:\n",
    "    print('What?')\n",
    "        \n"
   ]
  },
  {
   "cell_type": "code",
   "execution_count": 3,
   "metadata": {},
   "outputs": [
    {
     "name": "stdout",
     "output_type": "stream",
     "text": [
      "5.25\n"
     ]
    }
   ],
   "source": [
    "## Homework Problem 2\n",
    "\n",
    "years = int(input('How long have you been working here in years?:'))\n",
    "if years >= 5:\n",
    "    salary = int(input('What is your salary?:'))\n",
    "    new_wage = salary * 1.05 \n",
    "    print(new_wage + ' is your new salary!')\n",
    "    \n",
    "if years < 5:\n",
    "    print('No increased wage for you!')"
   ]
  },
  {
   "cell_type": "code",
   "execution_count": 4,
   "metadata": {},
   "outputs": [
    {
     "name": "stdout",
     "output_type": "stream",
     "text": [
      "You got a B\n"
     ]
    }
   ],
   "source": [
    "## Homework 3\n",
    "\n",
    "marks = float(input('What is your grade average'))\n",
    "\n",
    "if marks < 25:\n",
    "    print('You got an F')\n",
    "if 25 <= marks <= 45:\n",
    "    print('You got an E')\n",
    "if 45 < marks < 50:\n",
    "    print('You got a D')\n",
    "if 50 <= marks < 60:\n",
    "    print('You got a C')\n",
    "if 60 <= marks < 80:\n",
    "    print('You got a B')\n",
    "if 80 <= marks:\n",
    "    print('You got an A')"
   ]
  }
 ],
 "metadata": {
  "kernelspec": {
   "display_name": "Python 3",
   "language": "python",
   "name": "python3"
  },
  "language_info": {
   "codemirror_mode": {
    "name": "ipython",
    "version": 3
   },
   "file_extension": ".py",
   "mimetype": "text/x-python",
   "name": "python",
   "nbconvert_exporter": "python",
   "pygments_lexer": "ipython3",
   "version": "3.11.4"
  }
 },
 "nbformat": 4,
 "nbformat_minor": 2
}
