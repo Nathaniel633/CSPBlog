{
 "cells": [
  {
   "cell_type": "markdown",
   "metadata": {},
   "source": [
    "---\n",
    "layout: post\n",
    "title: Week 9 Plan\n",
    "toc: true\n",
    "comments: true\n",
    "courses: {compsci: {week: 9} }\n",
    "type: plans\n",
    "---"
   ]
  }
 ],
 "metadata": {
  "language_info": {
   "name": "python"
  }
 },
 "nbformat": 4,
 "nbformat_minor": 2
}
