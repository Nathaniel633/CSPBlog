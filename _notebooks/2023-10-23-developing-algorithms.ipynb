{
 "cells": [
  {
   "cell_type": "markdown",
   "metadata": {},
   "source": [
    "---\n",
    "layout: post\n",
    "title: Developing Algorithms\n",
    "toc: true\n",
    "comments: true\n",
    "courses: {compsci: {week: 10} }\n",
    "type: tangibles\n",
    "---"
   ]
  },
  {
   "cell_type": "code",
   "execution_count": 21,
   "metadata": {
    "vscode": {
     "languageId": "javascript"
    }
   },
   "outputs": [
    {
     "ename": "SyntaxError",
     "evalue": "invalid syntax (1869691404.py, line 1)",
     "output_type": "error",
     "traceback": [
      "\u001b[0;36m  Cell \u001b[0;32mIn[21], line 1\u001b[0;36m\u001b[0m\n\u001b[0;31m    function findMedian(data) {\u001b[0m\n\u001b[0m             ^\u001b[0m\n\u001b[0;31mSyntaxError\u001b[0m\u001b[0;31m:\u001b[0m invalid syntax\n"
     ]
    }
   ],
   "source": [
    "function findMedian(data) {\n",
    "    // Sort the data in ascending order\n",
    "    data.sort((a, b) => a - b);\n",
    "\n",
    "    const n = data.length;\n",
    "\n",
    "    // If the number of data points is odd, return the middle value\n",
    "    if (n % 2 !== 0) {\n",
    "        return data[Math.floor(n / 2)];\n",
    "    } else {\n",
    "        // If the number of data points is even, return the average of the two middle values\n",
    "        const mid1 = data[n / 2 - 1];\n",
    "        const mid2 = data[n / 2];\n",
    "        return (mid1 + mid2) / 2;\n",
    "    }\n",
    "}\n",
    "\n",
    "// Example\n",
    "const classData = [85, 92, 78, 95, 88];\n",
    "const median = findMedian(classData);\n",
    "console.log(\"Median:\", median);"
   ]
  },
  {
   "cell_type": "code",
   "execution_count": 1,
   "metadata": {},
   "outputs": [
    {
     "name": "stdout",
     "output_type": "stream",
     "text": [
      "1\n",
      "You landed heads!\n"
     ]
    }
   ],
   "source": [
    "import random\n",
    "\n",
    "x = input(\"Do you want to flip a coin? (y/n)\")\n",
    "#x = str(x)\n",
    "\n",
    "if x == \"y\":\n",
    "    coin_flip = random.randint(0, 1)\n",
    "    if coin_flip == 0:\n",
    "        print(\"You landed tails!\")\n",
    "    else:\n",
    "        print(\"You landed heads!\")\n",
    "        \n",
    "# If they don't want to flip a coin\n",
    "elif x == \"n\":\n",
    "    print(\"Maybe next time!\")\n",
    "else:\n",
    "    print(\"I\\'m not sure what you mean\")\n",
    "    \n",
    "\n"
   ]
  }
 ],
 "metadata": {
  "kernelspec": {
   "display_name": "Python 3",
   "language": "python",
   "name": "python3"
  },
  "language_info": {
   "codemirror_mode": {
    "name": "ipython",
    "version": 3
   },
   "file_extension": ".py",
   "mimetype": "text/x-python",
   "name": "python",
   "nbconvert_exporter": "python",
   "pygments_lexer": "ipython3",
   "version": "3.11.4"
  }
 },
 "nbformat": 4,
 "nbformat_minor": 2
}
