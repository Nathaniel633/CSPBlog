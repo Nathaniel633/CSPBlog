{
 "cells": [
  {
   "cell_type": "markdown",
   "metadata": {},
   "source": [
    "---\n",
    "layout: post\n",
    "title: Final Project - Individual\n",
    "toc: true\n",
    "comments: true\n",
    "courses: {compsci: {week: 10} }\n",
    "type: plans\n",
    "---"
   ]
  },
  {
   "cell_type": "markdown",
   "metadata": {},
   "source": [
    "Instructions - Final project for individuals.\n",
    "\n",
    "- Complete between Oct 25th through Nov 6th.  \n",
    "- Review early.  People that received a 1 on analytics check, could go early.   Show progress on student lessons.  Show plans for College Board Quiz and study.  Completed work is not necessary, the ability to  show how you will be complete work is more impressive.\n",
    "- Iterative progress.  Showing how you iterate and have plans for completing student blog is valued more than hurried completion in last few days of trimester.\n",
    " \n",
    "\n",
    "- Individual Code - Code that you can talk about, that shows your final project contribution.   Show code that you feel qualifies for Teacher requirements and demonstrates your learnings from the project.  It does not need to be done but shows your participation and accomplishment.   Make sure that I know you have prepared your thoughts before sharing!!!\n",
    "\n",
    "- Code contribution to project.  JavaScript and/or Python are required.  Any discussions of CSS are not a part of individual scoring.\n",
    "- GitHub analytics review.  You should show how GitHub substantiates your work or claims of work during the trimester.   Be prepared to share KEY GitHub commits.  Talk about some of the challenges you faced in development in association with GitHub commits, Review tickets, and analytics.\n",
    "- Note.  If for some reason you feature does not make the main portion of program, there should be spot for you to do adjunct activity in team project.  In the recommended NightHawk pages frontend there are many places to put code in project without impacting main/demo page.  Look at alienWorld projectLinks to an external site., as it has examples of blogs/experiments that are independent of index.html.\n",
    "\n",
    "- Individual Blog - Code and materials that show your learnings for trimester.  Be sure to update your Time Box and Blogs to represent trimester long work.\n",
    "\n",
    "- Code in blog.  Python is primary focus to check for this review, particularly how you have organized Student Lessons to show your learning.\n",
    "- Usage of blog.  Teacher should be convinced that you are using your Blog as Study Guide for this course and future trimesters.\n",
    "- Pseudo code notes.  As you test in Pseudo code, it is valuable to show your understanding of Pseudo Code, some illustration or examples of Pseudo Code in relation to Python.\n",
    "- College Board Quiz notes.   Journal of things you looked up while taking quiz.  Correction for questions you missed.\n",
    "- Trimester 1 reflection.   Memories and learnings from trimester 1.   Reflective summary of things you learned, positive accomplishments,    Reflective summary of things you intend to learn in future trimesters, opportunities for growth."
   ]
  }
 ],
 "metadata": {
  "language_info": {
   "name": "python"
  }
 },
 "nbformat": 4,
 "nbformat_minor": 2
}
