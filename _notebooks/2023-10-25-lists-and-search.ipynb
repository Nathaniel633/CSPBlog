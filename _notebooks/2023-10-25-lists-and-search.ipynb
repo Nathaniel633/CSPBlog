{
 "cells": [
  {
   "cell_type": "markdown",
   "metadata": {},
   "source": [
    "---\n",
    "layout: post\n",
    "title: Lists and Search Hacks\n",
    "toc: true\n",
    "comments: true\n",
    "courses: {compsci: {week: 10} }\n",
    "type: plans\n",
    "---"
   ]
  },
  {
   "cell_type": "code",
   "execution_count": null,
   "metadata": {},
   "outputs": [],
   "source": [
    "# Define a list of numbers\n",
    "numbers = [1, 2, 3, 4, 5, 6, 7, 8, 9, 10]\n",
    "\n",
    "# Initialize a variable to store the sum of even numbers\n",
    "even_sum = 0\n",
    "\n",
    "# Iterate through each number in the list\n",
    "for num in numbers:\n",
    "    # Check if the number is even (divisible by 2)\n",
    "    if num % 2 == 0:\n",
    "        # If the number is even, add it to the even_sum\n",
    "        even_sum += num\n",
    "\n",
    "# Print the list of numbers\n",
    "print(\"List of numbers:\", numbers)\n",
    "\n",
    "# Print the sum of even numbers\n",
    "print(\"Sum of even numbers:\", even_sum)\n"
   ]
  },
  {
   "cell_type": "code",
   "execution_count": null,
   "metadata": {},
   "outputs": [],
   "source": [
    "import math\n",
    "\n",
    "def worst_case_iterations(array_length):\n",
    "    # Calculate the worst-case number of iterations for a binary search\n",
    "    return math.ceil(math.log2(array_length))\n",
    "\n",
    "# Array of length 20\n",
    "array_length = 20\n",
    "worst_case = worst_case_iterations(array_length)\n",
    "print(f\"Worst case iterations for an array of length {array_length}: {worst_case}\")"
   ]
  },
  {
   "cell_type": "markdown",
   "metadata": {},
   "source": [
    "3. A"
   ]
  }
 ],
 "metadata": {
  "language_info": {
   "name": "python"
  }
 },
 "nbformat": 4,
 "nbformat_minor": 2
}
