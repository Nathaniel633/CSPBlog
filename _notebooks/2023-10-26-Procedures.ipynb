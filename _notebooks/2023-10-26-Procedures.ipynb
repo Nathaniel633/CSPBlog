{
 "cells": [
  {
   "cell_type": "markdown",
   "metadata": {},
   "source": [
    "---\n",
    "layout: post\n",
    "title: Procedures Hacks\n",
    "toc: true\n",
    "comments: true\n",
    "courses: {compsci: {week: 10} }\n",
    "type: tangibles\n",
    "---"
   ]
  },
  {
   "cell_type": "code",
   "execution_count": null,
   "metadata": {},
   "outputs": [],
   "source": [
    "def procedural_abstraction(numbers):\n",
    "    if not numbers:\n",
    "        return 0  \n",
    "    \n",
    "    total = sum(numbers)\n",
    "    average = total / len(numbers)\n",
    "    return average\n",
    "\n",
    "my_numbers = [10, 20, 30, 40, 50]\n",
    "result = procedural_abstraction(my_numbers)\n",
    "print(f\"The average of the numbers is: {result}\")\n"
   ]
  },
  {
   "cell_type": "code",
   "execution_count": null,
   "metadata": {},
   "outputs": [],
   "source": [
    "def summing_machine(first_number, second_number):\n",
    "    return first_number + second_number\n",
    "\n",
    "result = summing_machine(7, 5)\n",
    "\n",
    "print(f\"The sum of 7 and 5 is: {result}\")\n"
   ]
  }
 ],
 "metadata": {
  "language_info": {
   "name": "python"
  }
 },
 "nbformat": 4,
 "nbformat_minor": 2
}
