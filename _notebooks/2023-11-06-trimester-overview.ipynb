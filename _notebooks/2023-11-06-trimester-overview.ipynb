{
 "cells": [
  {
   "cell_type": "markdown",
   "metadata": {},
   "source": [
    "---\n",
    "layout: post\n",
    "title: Trimester Overview\n",
    "toc: true\n",
    "comments: true\n",
    "courses: {compsci: {week: 12} }\n",
    "type: tangibles\n",
    "---"
   ]
  },
  {
   "cell_type": "markdown",
   "metadata": {},
   "source": [
    "# Weeks 0-3 Build a Lab Notebook\n",
    "\n",
    "During the first 3 weeks of this course, I had a lot of trouble getting started and needed a lot of help with my peers to get all my stuff up and running. I just really couldn't follow the lectures at first and felt completely lost, but I was able to get myself on my feet pretty quick with the help of my peers in both CSP and CSA. Here is where I first worked with Github and publishing my own personal site, as well as starting to touch a little bit into JavaScript with the little games we made as part of the cirriculum \n",
    "\n",
    "# Weeks 4-7 Learn Language\n",
    "\n",
    "During these stages, I built my first programs with JavaScript and Python, and got accostomed to programming and experimenting with these languages, including printing to console with JS, and problem solving in Python. During this unit is when I first made my timer, which was my code contribution to our passion project. This is also when we established our team of four for the rest of the trimester. Originally it was me and Rayyan, but we combined with Daniel and Aidan. This is when I first finally understood what I was doing, as I couldn't get any ground before.\n",
    "\n",
    "# Weeks 8-12 Web Application, Data, and N@tM\n",
    "\n",
    "Now, I was working on serious stuff, with databases and flask and AWS. Here is where my team started our passion project with a backend repository and frontend repository, and we had to link them both together to deploy our project for people to interact with. For Night at the Museum, we watered our project down a little bit to benefit the showcase for people. Here is also where \n",
    "we did our student teaching, and I learned a lot about algorithms in Python, as well as collegeboard pseudocode. I took mental notes of all the lectures and completed hacks for each one, of which I continued to reference whenever something similar came up.\n",
    "\n",
    "# Main Takeaways\n",
    "\n",
    "Overall, this course boosted my motivation and love for coding, as I realized that it was a lot of fun. I look forward to taking the skills I learned this trimester into the next trimesters to refine them, and put them to use. I know that even a basic understanding of computer science is a very important skill in today's society that can lead to a carreer or even a personal hobby. I had a lot of fun learning to work in a group and fascilitating work. I can't way to use what I've learned for the future."
   ]
  }
 ],
 "metadata": {
  "language_info": {
   "name": "python"
  }
 },
 "nbformat": 4,
 "nbformat_minor": 2
}
