{
 "cells": [
  {
   "cell_type": "markdown",
   "metadata": {},
   "source": [
    "---\n",
    "layout: post\n",
    "title: Trimester Overview\n",
    "toc: true\n",
    "comments: true\n",
    "courses: {compsci: {week: 12} }\n",
    "type: tangibles\n",
    "---"
   ]
  },
  {
   "cell_type": "markdown",
   "metadata": {},
   "source": [
    "# Weeks 0-3 Build a Lab Notebook\n",
    "\n",
    "# Weeks 4-7 Learn Language\n",
    "\n",
    "# Weeks 8-12 Web Application, Data, and N@tM"
   ]
  }
 ],
 "metadata": {
  "language_info": {
   "name": "python"
  }
 },
 "nbformat": 4,
 "nbformat_minor": 2
}
