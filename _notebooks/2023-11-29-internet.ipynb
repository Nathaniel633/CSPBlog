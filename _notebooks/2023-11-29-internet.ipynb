{
 "cells": [
  {
   "cell_type": "markdown",
   "metadata": {},
   "source": [
    "---\n",
    "layout: post\n",
    "title: Internet HW\n",
    "toc: true\n",
    "comments: true\n",
    "courses: {compsci: {week: 14} }\n",
    "type: tangibles\n",
    "---"
   ]
  },
  {
   "cell_type": "markdown",
   "metadata": {},
   "source": [
    "> Part 1: Bandwidth\n",
    "\n",
    "In the context of computer networks, elaborate on the concept of bandwidth. Discuss how bandwidth influences the speed and efficiency of data transfer. Provide examples of scenarios where both high and low bandwidth can impact the performance of internet connected devices.\n",
    "\n",
    "- Bandwidth is the concept\n",
    "\n",
    "> Part 2: Computer Network\n",
    "\n",
    "Explore computer networks by detailing the key components and their interplay. Discuss the significance of scalability, security, and reliability in designing computer networks. Provide real-world examples of how different types of computer networks, such as local area networks (LANs) and wide area networks (WANs), serve distinct purposes in various settings."
   ]
  }
 ],
 "metadata": {
  "language_info": {
   "name": "python"
  }
 },
 "nbformat": 4,
 "nbformat_minor": 2
}
