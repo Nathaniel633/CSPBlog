{
 "cells": [
  {
   "cell_type": "markdown",
   "metadata": {},
   "source": [
    "---\n",
    "layout: post\n",
    "title: UAVs and Drones Team Teach\n",
    "toc: true\n",
    "comments: true\n",
    "courses: {compsci: {week: 14} }\n",
    "type: tangibles\n",
    "---"
   ]
  },
  {
   "cell_type": "markdown",
   "metadata": {},
   "source": [
    "## UAVs and Drones\n",
    "\n",
    "- UAVs (or unmanned aerial vehicles) are simply vehicles without a human pilot, crew, or passengers on board. The use of a UAV can be split into two categories; civillian and military. While civilian UAVs are used for package deliveries and recreation, military drones are used for scout missions and carrying out offensive strikes on enemy targets.\n",
    "\n",
    "- Drones are vehicles without a human pilot, crew, or passengers and the term can be used synonymously with UAVs, however drones are usually remote controlled. UAVs may have autonomous abilities, while Drones do not, which means that all drones are UAVs, but not all UAVs are drones. Drones are much more commonly used than UAVs, and have uses such as construction, mining, inspection, emergency management, forestry, jounalism, law enforcement, etc.\n",
    "\n",
    "<img src=\"https://www.marinecorpstimes.com/resizer/lp66A1gp90It35dcIDS4K_RORi0=/1024x0/filters:format(jpg):quality(70)/cloudfront-us-east-1.images.arcpublishing.com/archetype/TZFFCKDWRFFIVJUH77DX4OCOSQ.jpg\">\n",
    "\n",
    "> Benefits\n",
    "\n",
    "- Aids with military use, as stated previously, by transporting packages or conducting remote spy missions\n",
    "\n",
    "- Can help with search and rescue missions, offering more flexibility with movement and speed, as well as the use of thermal cameras for detection\n",
    "\n",
    "- Commonly used as a hobby, especially in movie or short-film aerial/cenimatic shots\n",
    "\n",
    "> Disadvantages\n",
    "\n",
    "- Technical: The drone's reliability and communication via radio signals make it susceptible to signal interference, which could cause it to lose control and pose a safety hazard\n",
    "\n",
    "- Safety concern: drones equipped with a camera can pose the risk of a disruption of privacy, if people used it with malicious intent and captured people without their permission\n",
    "\n",
    "- Ethical: Rapid drone development could lead to regulatory issues, causing confusion and potentially legal issues. It is important to keep the balance of drone regulations to keep society calm when it comes to the privacy risk of using drones."
   ]
  }
 ],
 "metadata": {
  "language_info": {
   "name": "python"
  }
 },
 "nbformat": 4,
 "nbformat_minor": 2
}
