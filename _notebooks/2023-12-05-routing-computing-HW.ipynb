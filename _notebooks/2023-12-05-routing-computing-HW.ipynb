{
 "cells": [
  {
   "cell_type": "markdown",
   "metadata": {},
   "source": [
    "---\n",
    "layout: post\n",
    "title: Routing and Computing HW\n",
    "toc: true\n",
    "comments: true\n",
    "courses: {compsci: {week: 14} }\n",
    "type: tangibles\n",
    "---"
   ]
  },
  {
   "cell_type": "markdown",
   "metadata": {},
   "source": [
    "> Question 1: What is parallel computing?\n",
    "\n",
    "- Parallel computing is a type of computation in which many calculations or processes are carried out simultaneously.\n",
    "\n",
    "> Question 2: If there is a computer with 3 cores that can each take one task, and the tasks are 25ms, 632ms and 100ms in run time respectively, how long will the program take to run?\n",
    "\n",
    "- 632ms\n",
    "\n",
    "> Question 3: Is sequential or parallel computing more efficient, and why?\n",
    "\n",
    "- Parallel computing is more efficient as it has the ability to divide workload among different cores or processors running simultaneously, getting the job done a lot quicker than if they were completed one after the other\n",
    "\n",
    "> Question 4: What is the term called when a network has multiple paths leading up to one destination? (Used in fault-tolerant systems)\n",
    "\n",
    "- Redundant routing\n",
    "\n",
    "> Question 5: Using the image above, is this fault tolerant?\n",
    "\n",
    "- Yes, this is fault tolerant, as if you cut any strand, all strands all still connected"
   ]
  }
 ],
 "metadata": {
  "language_info": {
   "name": "python"
  }
 },
 "nbformat": 4,
 "nbformat_minor": 2
}
