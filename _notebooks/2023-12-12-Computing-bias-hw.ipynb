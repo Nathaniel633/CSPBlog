{
 "cells": [
  {
   "cell_type": "markdown",
   "metadata": {},
   "source": [
    "---\n",
    "layout: post\n",
    "title: Computing Bias HW\n",
    "toc: true\n",
    "comments: true\n",
    "courses: {compsci: {week: 17} }\n",
    "type: tangibles\n",
    "---\n",
    "\n",
    "## Homework:\n",
    "\n",
    "1. Is bias enhancing or intentionally excluding?\n",
    "\n",
    "Bias is intentionally excluding, as it can always exclude certain perspectives. Bias favors and highlights one side, while often at the expense of another.\n",
    "\n",
    "2. Is bias intentionally harmful/hateful?\n",
    "\n",
    "Bias is never intentionally harmful/hateful and just exists naturally, but can lead people to have beliefs or make decisions that are harmful/hateful.\n",
    "\n",
    "3. During software development are your receiving feedback from a wide variety of people?\n",
    "\n",
    "During software development, you must receive feedback from a wide variety of people in order to get a variety of perspecitves to make the best program.\n",
    "\n",
    "4. What are the different biases you can find in an application such as Youtube Kids?\n",
    "\n",
    "As Youtube Kids is directed toward a very young audience, so its content will only show stuff adapted for those of that age. For example, you wont find information about war propoganda on YT Kids\n",
    "\n",
    "Answer in complete sentences, due Sunday 11:59 pm"
   ]
  }
 ],
 "metadata": {
  "language_info": {
   "name": "python"
  }
 },
 "nbformat": 4,
 "nbformat_minor": 2
}
