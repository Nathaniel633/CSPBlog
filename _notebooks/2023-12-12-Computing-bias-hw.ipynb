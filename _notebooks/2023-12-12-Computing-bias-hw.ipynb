{
 "cells": [
  {
   "cell_type": "markdown",
   "metadata": {},
   "source": [
    "---\n",
    "layout: post\n",
    "title: Digital Divide HW\n",
    "toc: true\n",
    "comments: true\n",
    "courses: {compsci: {week: 17} }\n",
    "type: tangibles\n",
    "---\n",
    "\n",
    "## Homework:\n",
    "\n",
    "1. Is bias enhancing or intentionally excluding?\n",
    "\n",
    "Bias is intentionally excluding\n",
    "2. Is bias intentionally harmful/hateful?\n",
    "3. During software development are your receiving feedback from a wide variety of people?\n",
    "4. What are the different biases you can find in an application such as Youtube Kids?\n",
    "\n",
    "Answer in complete sentences, due Sunday 11:59 pm"
   ]
  }
 ],
 "metadata": {
  "language_info": {
   "name": "python"
  }
 },
 "nbformat": 4,
 "nbformat_minor": 2
}
