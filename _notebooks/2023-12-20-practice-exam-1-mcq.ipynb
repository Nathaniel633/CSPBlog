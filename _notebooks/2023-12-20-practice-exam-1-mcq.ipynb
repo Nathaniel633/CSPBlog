{
 "cells": [
  {
   "cell_type": "markdown",
   "metadata": {},
   "source": [
    "---\n",
    "toc: true\n",
    "comments: false\n",
    "layout: post\n",
    "title: \"2020\" Practice Exam 1 MCQ\n",
    "type: tangibles\n",
    "courses: { csp: {week: 18} }\n",
    "---"
   ]
  }
 ],
 "metadata": {
  "language_info": {
   "name": "python"
  }
 },
 "nbformat": 4,
 "nbformat_minor": 2
}
