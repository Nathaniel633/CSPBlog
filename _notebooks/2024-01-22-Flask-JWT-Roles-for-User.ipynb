{
 "cells": [
  {
   "cell_type": "markdown",
   "metadata": {},
   "source": [
    "---\n",
    "toc: true\n",
    "comments: false\n",
    "layout: post\n",
    "title: Flask JWT Roles for User / Admin Student Lesson\n",
    "description: Flask JWT Roles for User / Admin User student lesson presented by Team WRONG (Will, Rayyan, Jason, Nathan, and Grayson)\n",
    "type: hacks\n",
    "courses: { compsci: {week: 20} }\n",
    "---"
   ]
  },
  {
   "cell_type": "markdown",
   "metadata": {},
   "source": [
    "Segment until and including Authentication Middleware\n",
    "\n",
    "### Notes\n",
    "\n",
    "> Authenticating Flask API Using JWT \n",
    "\n",
    "- Authenticaiton: Authentication is loosely how a database can associate/assign a user to their profile and give them certain permissions and roles based on the profile.\n",
    "\n",
    "- Single-factor Authentication: The most basic form of authentication, where user enters a username/phone number/email and a password. The program checks the information with the information in the database and grants the user permission if the information grants reflects that in the database.\n",
    "\n",
    "- Multi-factor Authentication: Grants user access using more than one gates. For example, if the username and password are correct, the site could send a verification code to the associated phone number for further verification.\n",
    "\n",
    "> Types of Authentication\n",
    "\n",
    "- Knowledge Authentication:"
   ]
  }
 ],
 "metadata": {
  "language_info": {
   "name": "python"
  }
 },
 "nbformat": 4,
 "nbformat_minor": 2
}
