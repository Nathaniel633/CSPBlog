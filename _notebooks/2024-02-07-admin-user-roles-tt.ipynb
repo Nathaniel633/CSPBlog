{
 "cells": [
  {
   "cell_type": "markdown",
   "metadata": {},
   "source": [
    "---\n",
    "toc: false\n",
    "comments: true\n",
    "layout: post\n",
    "title: Team Teach - Flask JWT Roles for Admin/User Login\n",
    "type: hacks\n",
    "courses: { compsci: {week: 19} }\n",
    "---"
   ]
  },
  {
   "cell_type": "markdown",
   "metadata": {},
   "source": [
    "# Team mTeach\n",
    "\n",
    "Blank text lorem ipsum"
   ]
  }
 ],
 "metadata": {
  "language_info": {
   "name": "python"
  }
 },
 "nbformat": 4,
 "nbformat_minor": 2
}
