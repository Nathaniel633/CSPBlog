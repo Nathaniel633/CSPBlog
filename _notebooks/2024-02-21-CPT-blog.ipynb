{
 "cells": [
  {
   "cell_type": "markdown",
   "metadata": {},
   "source": [
    "---\n",
    "toc: false\n",
    "comments: true\n",
    "layout: post\n",
    "title: Individual CPT Review\n",
    "type: hacks\n",
    "courses: { compsci: {week: 24} }\n",
    "---"
   ]
  },
  {
   "cell_type": "markdown",
   "metadata": {},
   "source": [
    "# CPT Project Generalization\n",
    "\n",
    "In our CPT project, we made a turn-based Tarkov game in which players are assigned different roles and perform certain functions based on those roles. In our game, users must first create a character from 5 different character types where they7 are then brought to a game screen. In this game board, there is an invisible opponent that can attack your character if within range, however you have the ability to fight back if you guess a randomly generated number.\n",
    "\n",
    "# Personal Contribution\n",
    "\n",
    "My primary contribution to this project was my development of the leaderboard section, which takes player kills and sorts users by their individual 'win' count. If a player would successfully kill the AI opponent, this would we stored as a win for the player, and once the player checks the leaderboard, the win count is updated and in order of wins from highest to lowest. Ideally once this gets deployed, the win counts will update more as more players will be playing on the same server.\n",
    "\n",
    "# Part 1: Program Code\n",
    "\n",
    "| Collegeboard Requirements | My Application |\n",
    "\n",
    "|------------------|------------------|\n",
    "| Instructions for input from one of the following: the user, a device, an online datas stream, a file.  | Ideally, the game should record the number of kills and store them as wins per each player, which will update the wins column of the leaderboard |\n",
    "\n",
    "| Use of at least one list (or other collection type) to represent a collection of data that is stored and used to manage program complexity and help fulfill the users purpose.  | [Array.png](https://postimg.cc/zVzZ0N2m) | \n",
    "\n",
    "| At least one procedure that contirubted to the program's intened purpose where you have defined: the name, return type, one or more parameters:  | [procedure.png](https://postimg.cc/LqbjY35M) |\n",
    "\n",
    "| An algorithm that includes sequencing, selection, and iteration that is in the body of the selected procedure  | [algorithm.png](https://postimg.cc/zVzZ0N2m) |\n",
    "\n",
    "| Calls to your student-developed prodcedure:  | [call-to-procedure.png](https://postimg.cc/xX061rFp) |\n",
    "\n",
    "| Instructions for output (tactile, audible, visual, or ) based on input and program functionality  | Ideally, the code will accept input as the player gains wins, and output them to the table live on the server. |\n",
    "\n",
    "# Part 2: Video\n",
    "\n",
    "[Link to Video](https://drive.google.com/file/d/1BdVB4tChAjrv4Ak5Hvn1IRziQK8irFjR/view?usp=sharing)\n",
    "\n",
    "| Collegboard Requirements | My Video |\n",
    "|------------------|------------------|\n",
    "| Input to program  | WIP: User wins will live update the leaderboard table |\n",
    "| At least one aspect of the functionality of your program | Shows the leaderboard sorting the win count |\n",
    "| Output produced by program:  | A table in which wins are sorted by win count |\n",
    "| My video does not have: | text or speech |\n",
    "| My video is | of webm file format |"
   ]
  }
 ],
 "metadata": {
  "language_info": {
   "name": "python"
  }
 },
 "nbformat": 4,
 "nbformat_minor": 2
}
