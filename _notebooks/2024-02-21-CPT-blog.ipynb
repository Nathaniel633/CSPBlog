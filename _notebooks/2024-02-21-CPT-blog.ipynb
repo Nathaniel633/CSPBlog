{
 "cells": [
  {
   "cell_type": "markdown",
   "metadata": {},
   "source": [
    "---\n",
    "toc: false\n",
    "comments: true\n",
    "layout: post\n",
    "title: Individual CPT Review\n",
    "type: hacks\n",
    "courses: { compsci: {week: 20} }\n",
    "---"
   ]
  },
  {
   "cell_type": "markdown",
   "metadata": {},
   "source": [
    "# CPT Project Generalization\n",
    "\n",
    "In our CPT project, we made a turn-based Tarkov game in which players are assigned different roles and perform certain functions based on those roles. \n",
    "\n",
    "# Personal Contribution\n",
    "\n",
    "My primary contribution to this project was my development of the leaderboard section, which takes player kills and sorts users by their individual 'win' count.\n",
    "\n",
    "# Part 1: Program Code\n",
    "\n",
    "| Collegeboard Requirements | My Application |\n",
    "\n",
    "|------------------|------------------|\n",
    "\n",
    "| Instructions for input from one of the following: the user, a device, an online datas stream, a file.  | Ideally, the game should record the number of kills and store them as wins per each player, which will update the wins column of the leaderboard |\n",
    "\n",
    "| Use of at least one list (or other collection type) to represent a collection of data that is stored and used to manage program complexity and help fulfill the users purpose.  | [Array](https://ibb.co/VYxqmwj) |\n",
    "\n",
    "| At least one procedure that contirubted to the program's intened purpose where you have defined: the name, return type, one or more parameters:  |  |\n",
    "\n",
    "| An algorithm that includes sequencing, selection, and iteration that is in the body of the selected procedure  |  |\n",
    "\n",
    "| Calls to your student-developed prodcedure:  |  |\n",
    "\n",
    "| Instructions for output (tactile, audible, visual, or ) based on input and program functionality  |  |\n",
    "\n",
    "# Part 2: Video\n",
    "\n",
    "[Link to Video]()\n",
    "\n",
    "\n",
    "| Collegboard Requirements | My Video |\n",
    "|------------------|------------------|\n",
    "| Input to program  |   |\n",
    "| At least one aspect of the functionality of your program|   |\n",
    "| Output produced by program:  |  |\n",
    "| My video does not have: |  |\n",
    "| My video is |  |"
   ]
  }
 ],
 "metadata": {
  "language_info": {
   "name": "python"
  }
 },
 "nbformat": 4,
 "nbformat_minor": 2
}
