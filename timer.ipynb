{
 "cells": [
  {
   "cell_type": "markdown",
   "metadata": {},
   "source": [
    "---\n",
    "layout: post\n",
    "title: Python Timer\n",
    "description: A timer with Python to help my time management when studying\n",
    "toc: true\n",
    "comments: true\n",
    "courses: {compsci: {week: 5} }\n",
    "type: hacks\n",
    "---"
   ]
  },
  {
   "cell_type": "code",
   "execution_count": 3,
   "metadata": {},
   "outputs": [
    {
     "ename": "ValueError",
     "evalue": "invalid literal for int() with base 10: ''",
     "output_type": "error",
     "traceback": [
      "\u001b[0;31m---------------------------------------------------------------------------\u001b[0m",
      "\u001b[0;31mValueError\u001b[0m                                Traceback (most recent call last)",
      "\u001b[1;32m/Users/nathano/vscode/student/timer.ipynb Cell 2\u001b[0m line \u001b[0;36m3\n\u001b[1;32m     <a href='vscode-notebook-cell:/Users/nathano/vscode/student/timer.ipynb#W0sZmlsZQ%3D%3D?line=31'>32</a>\u001b[0m m \u001b[39m=\u001b[39m \u001b[39minput\u001b[39m(\u001b[39m\"\u001b[39m\u001b[39mEnter the time in minutes: \u001b[39m\u001b[39m\"\u001b[39m)\n\u001b[1;32m     <a href='vscode-notebook-cell:/Users/nathano/vscode/student/timer.ipynb#W0sZmlsZQ%3D%3D?line=32'>33</a>\u001b[0m s \u001b[39m=\u001b[39m \u001b[39minput\u001b[39m(\u001b[39m\"\u001b[39m\u001b[39mEnter the time in seconds: \u001b[39m\u001b[39m\"\u001b[39m)\n\u001b[0;32m---> <a href='vscode-notebook-cell:/Users/nathano/vscode/student/timer.ipynb#W0sZmlsZQ%3D%3D?line=33'>34</a>\u001b[0m countdown(\u001b[39mint\u001b[39m(h), \u001b[39mint\u001b[39m(m), \u001b[39mint\u001b[39m(s))\n",
      "\u001b[0;31mValueError\u001b[0m: invalid literal for int() with base 10: ''"
     ]
    }
   ],
   "source": [
    "import time\n",
    "import datetime\n",
    "import beepy\n",
    " \n",
    "# Create class that acts as a countdown\n",
    "def countdown(h, m, s):\n",
    " \n",
    "    # Calculate the total number of seconds\n",
    "    total_seconds = h * 3600 + m * 60 + s\n",
    " \n",
    "    # While loop that checks if total_seconds reaches zero\n",
    "    # If not zero, decrement total time by one second\n",
    "    while total_seconds > 0:\n",
    " \n",
    "        # Timer represents time left on countdown\n",
    "        timer = datetime.timedelta(seconds = total_seconds)\n",
    "        \n",
    "        # Prints the time left on the timer\n",
    "        print(timer, end=\"\\r\")\n",
    " \n",
    "        # Delays the program one second\n",
    "        time.sleep(1)\n",
    " \n",
    "        # Reduces total time by one second\n",
    "        total_seconds -= 1\n",
    " \n",
    "    print(\"Bzzzt! The countdown is at zero seconds!\")\n",
    "    beep(sound='wilhelm')\n",
    " \n",
    "# Inputs for hours, minutes, seconds on timer\n",
    "h = input(\"Enter the time in hours: \")\n",
    "m = input(\"Enter the time in minutes: \")\n",
    "s = input(\"Enter the time in seconds: \")\n",
    "countdown(int(h), int(m), int(s))"
   ]
  }
 ],
 "metadata": {
  "kernelspec": {
   "display_name": "Python 3",
   "language": "python",
   "name": "python3"
  },
  "language_info": {
   "codemirror_mode": {
    "name": "ipython",
    "version": 3
   },
   "file_extension": ".py",
   "mimetype": "text/x-python",
   "name": "python",
   "nbconvert_exporter": "python",
   "pygments_lexer": "ipython3",
   "version": "3.11.4"
  },
  "orig_nbformat": 4
 },
 "nbformat": 4,
 "nbformat_minor": 2
}
